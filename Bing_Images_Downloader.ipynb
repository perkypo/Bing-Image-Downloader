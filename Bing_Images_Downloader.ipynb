{
 "cells": [
  {
   "cell_type": "markdown",
   "id": "61dcb272",
   "metadata": {},
   "source": [
    "# <center>Bing Image Downloader</center>"
   ]
  },
  {
   "cell_type": "markdown",
   "id": "722b9711",
   "metadata": {},
   "source": [
    "Import the required modules and functions"
   ]
  },
  {
   "cell_type": "code",
   "execution_count": null,
   "id": "5d235f70",
   "metadata": {},
   "outputs": [],
   "source": [
    "import pandas as pd\n",
    "from bs4 import BeautifulSoup\n",
    "import requests\n",
    "import os\n",
    "import re\n",
    "import csv\n",
    "from datetime import datetime\n",
    "from urllib.request import urlretrieve"
   ]
  },
  {
   "cell_type": "code",
   "execution_count": null,
   "id": "8f6e2c68",
   "metadata": {},
   "outputs": [],
   "source": [
    "# To create an empty csv file if it does not exists already, uncomment the below code\n",
    "header = ['ImageID','Title','Date']\n",
    "\n",
    "#with open('BingImages.csv','w',newline='', encoding='UTF8') as f:\n",
    "#    writer = csv.writer(f)\n",
    "#    writer.writerow(header)\n",
    "\n",
    "\n",
    "#with open('Failed.csv','w',newline='', encoding='UTF8') as f:\n",
    "#    writer = csv.writer(f)\n",
    "#    writer.writerow(['ImageID'])\n"
   ]
  },
  {
   "cell_type": "markdown",
   "id": "3a8f64cd",
   "metadata": {},
   "source": [
    "Download the homepage and find the number of pages in the website"
   ]
  },
  {
   "cell_type": "code",
   "execution_count": null,
   "id": "448b53c2",
   "metadata": {},
   "outputs": [],
   "source": [
    "homepage_url = 'https://windows10spotlight.com/'\n",
    "\n",
    "homepage_url_data = requests.get(homepage_url).text\n",
    "\n",
    "homepage_soup = BeautifulSoup(homepage_url_data,\"html.parser\")\n",
    "\n",
    "number_of_pages = int(re.findall('\\d+.\\d+', homepage_soup.find_all(\"nav\", {\"class\":\"navigation pagination\"})[0].text)[1])\n",
    "\n",
    "home_directory = os.getcwd()\n",
    "\n",
    "bing_df = pd.read_csv('BingImages.csv')\n",
    "\n",
    "#countries_df = pd.read_csv('countries.csv')"
   ]
  },
  {
   "cell_type": "markdown",
   "id": "c302bb2e",
   "metadata": {},
   "source": [
    "Download each page in the website to collect the image id's in each of it"
   ]
  },
  {
   "cell_type": "markdown",
   "id": "6f71e053",
   "metadata": {},
   "source": [
    "Clean the image caption"
   ]
  },
  {
   "cell_type": "code",
   "execution_count": null,
   "id": "6cb2c989",
   "metadata": {},
   "outputs": [],
   "source": [
    "def clean_caption(caption):\n",
    "    return caption.replace('/',' ').replace('\\\\',' ').replace('?','').replace('\"','').replace(\"'\",'')\n"
   ]
  },
  {
   "cell_type": "code",
   "execution_count": null,
   "id": "63e0bf0d",
   "metadata": {},
   "outputs": [],
   "source": [
    "#write the image_stamp to the csv\n",
    "def report_success(id, title, img_date):\n",
    "\n",
    "    data = [id, title, img_date]\n",
    "    with open('BingImages.csv','a+',newline='', encoding='UTF8') as f:\n",
    "        writer = csv.writer(f)\n",
    "        writer.writerow(data)\n"
   ]
  },
  {
   "cell_type": "code",
   "execution_count": null,
   "id": "8d730f50",
   "metadata": {},
   "outputs": [],
   "source": [
    "\n",
    "# to maintain a record of the failed downloads  \n",
    "def report_failed(id):\n",
    "\n",
    "    os.chdir(home_directory)\n",
    "    data = [id]\n",
    "    with open('Failed.csv','a+',newline='', encoding='UTF8') as f:\n",
    "        writer = csv.writer(f)\n",
    "        writer.writerow(data)\n"
   ]
  },
  {
   "cell_type": "code",
   "execution_count": null,
   "id": "ee685649",
   "metadata": {},
   "outputs": [],
   "source": [
    "\n",
    "def download_image_pc(link, caption, extension):\n",
    "\n",
    "    os.chdir(r'.\\Bing Images\\Desktop Background')\n",
    "    file_name = caption + '.' + extension\n",
    "    urlretrieve(link, file_name)\n",
    "\n",
    "    #link_data = requests.get(link)\n",
    "    #path=os.path.join(os.getcwd() , file_name)\n",
    "   \n",
    "    #with open(path, 'wb') as f:\n",
    "    #    print(link)\n",
    "    #    print(file_name)\n",
    "    #    f.write(link_data.content)\n",
    "\n",
    "    os.chdir(home_directory)\n",
    "\n",
    "\n",
    "#from urllib.request import urlretrieve\n",
    "\n",
    "#url = 'https://windows10spotlight.com/wp-content/uploads/2022/08/fee98416ec0b1c608573ff159ee7a235.jpg'\n",
    "#urlretrieve(url, 'image.jpg')\n"
   ]
  },
  {
   "cell_type": "code",
   "execution_count": null,
   "id": "bcc377e6",
   "metadata": {},
   "outputs": [],
   "source": [
    "\n",
    "def download_image_mobile(link, caption, extension):\n",
    "\n",
    "    os.chdir(r'.\\Bing Images\\Mobile Background')\n",
    "\n",
    "    file_name = caption + '.' + extension\n",
    "    urlretrieve(link, file_name)\n",
    "\n",
    "    #link_data = requests.get(link)\n",
    "    #path=os.path.join(os.getcwd() , file_name)\n",
    "\n",
    "    #with open(path, 'wb') as f:\n",
    "    #    print(link)\n",
    "    #    f.write(link_data.content)\n",
    "    \n",
    "    os.chdir(home_directory)\n",
    "    \n"
   ]
  },
  {
   "cell_type": "code",
   "execution_count": null,
   "id": "778ac6c5",
   "metadata": {},
   "outputs": [],
   "source": [
    "def redirect_to_image(image_id):\n",
    "\n",
    "    try:\n",
    "        image_page_url = 'https://windows10spotlight.com/images/' + str(image_id)\n",
    "\n",
    "        image_page_url_data = requests.get(image_page_url).text\n",
    "        \n",
    "        image_page_soup = BeautifulSoup(image_page_url_data, 'html.parser')\n",
    "\n",
    "        #extract the date of the image\n",
    "        dateStr = image_page_soup.find_all(\"span\", {\"class\":\"date\"})[0].text.replace('-',' ')\n",
    "        image_date = datetime.strptime(dateStr, '%d %b %Y').date()\n",
    "\n",
    "        #extract the title of the image\n",
    "        image_caption = clean_caption(image_page_soup.find('h1').text)\n",
    "        #country = image_caption.split(',')[-1] \n",
    "\n",
    "        #extract the download links\n",
    "        image_soup = image_page_soup.find(\"div\", {\"class\":\"entry\"}).find_all('a')\n",
    "\n",
    "        pc_image_link = image_soup[0].get('href')\n",
    "        pc_image_extension = pc_image_link.split('.')[-1]\n",
    "\n",
    "        mobile_image_link = image_soup[1].get('href')\n",
    "        mobile_image_extension = mobile_image_link.split('.')[-1]\n",
    "\n",
    "\n",
    "        download_image_pc(pc_image_link, image_caption, pc_image_extension)\n",
    "        download_image_mobile(mobile_image_link, image_caption, mobile_image_extension)\n",
    "\n",
    "        #save to the dataframe\n",
    "        bing_df.loc[len(bing_df.index)] = [image_id, image_caption, image_date]\n",
    "\n",
    "        print(image_id)\n",
    "        \n",
    "        report_success(image_id, image_caption, image_date)\n",
    "\n",
    "    except:\n",
    "        print('Error saving: {0}'.format(image_id))\n",
    "        report_failed(image_id)\n",
    "        \n"
   ]
  },
  {
   "cell_type": "code",
   "execution_count": null,
   "id": "3e8529a9",
   "metadata": {},
   "outputs": [],
   "source": [
    "\n",
    "def redirect_to_page(page_number):\n",
    "\n",
    "    page_url = 'https://windows10spotlight.com/page/' + str(page_number)\n",
    "\n",
    "    page_url_data = requests.get(page_url).text\n",
    "\n",
    "    page_soup = BeautifulSoup(page_url_data, 'html.parser')\n",
    "\n",
    "    page_content_soup = page_soup.find(id='content')\n",
    "    \n",
    "    for link in page_content_soup.find_all('h2'):\n",
    "        if(link.parent.name == 'article'):\n",
    "            img_id = link.text\n",
    "\n",
    "            if(img_id not in bing_df['ImageID'].values):\n",
    "                redirect_to_image(img_id)\n"
   ]
  },
  {
   "cell_type": "code",
   "execution_count": null,
   "id": "938d2407",
   "metadata": {},
   "outputs": [],
   "source": [
    "#browse through every page\n",
    "for page in range(number_of_pages, 0, -1):\n",
    "    \n",
    "    print(page)\n",
    "    redirect_to_page(page) #go to the specific page number"
   ]
  }
 ],
 "metadata": {
  "interpreter": {
   "hash": "831ae5df846a1662c15863a1c8a06cf47476e05948f37b16aff396e28769330c"
  },
  "kernelspec": {
   "display_name": "Python 3.10.1 64-bit",
   "language": "python",
   "name": "python3"
  },
  "language_info": {
   "codemirror_mode": {
    "name": "ipython",
    "version": 3
   },
   "file_extension": ".py",
   "mimetype": "text/x-python",
   "name": "python",
   "nbconvert_exporter": "python",
   "pygments_lexer": "ipython3",
   "version": "3.10.1"
  }
 },
 "nbformat": 4,
 "nbformat_minor": 5
}
